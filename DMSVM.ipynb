{
 "cells": [
  {
   "cell_type": "code",
   "execution_count": 1,
   "id": "dfea2dad",
   "metadata": {
    "scrolled": true
   },
   "outputs": [],
   "source": [
    "import pandas as pd\n",
    "from sklearn.model_selection import train_test_split\n",
    "from sklearn.feature_extraction.text import TfidfVectorizer\n",
    "from sklearn.svm import SVC\n",
    "from sklearn.metrics import accuracy_score, classification_report\n",
    "\n",
    "df = pd.read_csv('stemmed_Dataset1_21k.csv')\n",
    "\n",
    "df = df.dropna(subset=['text'])\n",
    "df = df[df['text'].astype(str).apply(lambda x: len(x.strip()) > 0)]"
   ]
  },
  {
   "cell_type": "code",
   "execution_count": 2,
   "id": "f0bdea4d",
   "metadata": {},
   "outputs": [],
   "source": [
    "#Data Splitting Block\n",
    "\n",
    "train_data, temp_data, train_labels, temp_labels = train_test_split(df['text'], df['label'], test_size=0.2, random_state=42)\n",
    "val_data, test_data, val_labels, test_labels = train_test_split(temp_data, temp_labels, test_size=0.5, random_state=42)"
   ]
  },
  {
   "cell_type": "code",
   "execution_count": 3,
   "id": "98ca9f01",
   "metadata": {},
   "outputs": [],
   "source": [
    "#To train our ML model we need numerical data. So we must convert our text data to numerical data.\n",
    "#We will do that with TF-IDF (Term Frequency-Inverse Document Frequency).\n",
    "\n",
    "tfidf_vectorizer = TfidfVectorizer(stop_words='english', max_df=0.7, min_df=2, max_features=5000)\n",
    "train_features = tfidf_vectorizer.fit_transform(train_data.astype(str)).toarray()\n",
    "val_features = tfidf_vectorizer.transform(val_data.astype(str)).toarray()\n",
    "test_features = tfidf_vectorizer.transform(test_data.astype(str)).toarray()"
   ]
  },
  {
   "cell_type": "code",
   "execution_count": 4,
   "id": "c1a3c12e",
   "metadata": {},
   "outputs": [],
   "source": [
    "svm_model = SVC(kernel='linear')\n",
    "svm_model.fit(train_features, train_labels)\n",
    "\n",
    "val_predictions = svm_model.predict(val_features)\n",
    "val_accuracy = accuracy_score(val_labels, val_predictions)\n",
    "\n",
    "test_predictions = svm_model.predict(test_features)\n",
    "test_accuracy = accuracy_score(test_labels, test_predictions)\n",
    "\n",
    "val_accuracy_percentage = val_accuracy * 100\n",
    "test_accuracy_percentage = test_accuracy * 100"
   ]
  },
  {
   "cell_type": "code",
   "execution_count": 5,
   "id": "4ad5438a",
   "metadata": {},
   "outputs": [
    {
     "name": "stdout",
     "output_type": "stream",
     "text": [
      "Validation Accuracy: 98.58%\n",
      "Test Accuracy: 98.96%\n",
      "Test Classification Report:\n",
      "              precision    recall  f1-score   support\n",
      "\n",
      "        FAKE       0.99      0.99      0.99      1023\n",
      "        REAL       0.99      0.99      0.99      1091\n",
      "\n",
      "    accuracy                           0.99      2114\n",
      "   macro avg       0.99      0.99      0.99      2114\n",
      "weighted avg       0.99      0.99      0.99      2114\n",
      "\n"
     ]
    }
   ],
   "source": [
    "#We finalize here, and display the result and performance of our task:\n",
    "\n",
    "print(\"Validation Accuracy: {:.2f}%\".format(val_accuracy_percentage))\n",
    "print(\"Test Accuracy: {:.2f}%\".format(test_accuracy_percentage))\n",
    "print(\"Test Classification Report:\")\n",
    "print(classification_report(test_labels, test_predictions))"
   ]
  },
  {
   "cell_type": "code",
   "execution_count": null,
   "id": "1a96f932",
   "metadata": {},
   "outputs": [],
   "source": []
  }
 ],
 "metadata": {
  "kernelspec": {
   "display_name": "Python 3 (ipykernel)",
   "language": "python",
   "name": "python3"
  },
  "language_info": {
   "codemirror_mode": {
    "name": "ipython",
    "version": 3
   },
   "file_extension": ".py",
   "mimetype": "text/x-python",
   "name": "python",
   "nbconvert_exporter": "python",
   "pygments_lexer": "ipython3",
   "version": "3.11.5"
  }
 },
 "nbformat": 4,
 "nbformat_minor": 5
}
